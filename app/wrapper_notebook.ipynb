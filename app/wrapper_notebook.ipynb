{
 "metadata": {
  "language_info": {
   "codemirror_mode": {
    "name": "ipython",
    "version": 3
   },
   "file_extension": ".py",
   "mimetype": "text/x-python",
   "name": "python",
   "nbconvert_exporter": "python",
   "pygments_lexer": "ipython3",
   "version": "3.8.3-final"
  },
  "orig_nbformat": 2,
  "kernelspec": {
   "name": "python_defaultSpec_1600122199647",
   "display_name": "Python 3.8.3 32-bit"
  }
 },
 "nbformat": 4,
 "nbformat_minor": 2,
 "cells": [
  {
   "cell_type": "code",
   "execution_count": 26,
   "metadata": {},
   "outputs": [],
   "source": [
    "\"\"\"\n",
    "\n",
    "Matthew Tralka\n",
    "Wrapper Testing Notebook\n",
    "\n",
    "\"\"\"\n",
    "\n",
    "\n",
    "\n",
    "import json\n",
    "import requests\n",
    "from env import SECRET, KEY #secret sauce\n",
    "from pathlib import Path"
   ]
  },
  {
   "cell_type": "code",
   "execution_count": 27,
   "metadata": {
    "tags": []
   },
   "outputs": [],
   "source": [
    "# FLICKR API\n",
    "# \n",
    "\n",
    "URL = 'https://api.flickr.com/services/rest/?method=flickr.photos.search'\n",
    "TEST_USER = 'user_1'\n",
    "# Param\n",
    "# written as called\n",
    "\n",
    "# general\n",
    "per_page = '500'\n",
    "page = '1'\n",
    "format_output = 'json' # call exclude _output\n",
    "extras = \"description, license, date_upload, date_taken, owner_name, icon_server, original_format, last_update, geo, tags, url_sq\"\n",
    "nojsoncallback = '1'\n",
    "has_geo = '1'\n",
    "\n",
    "# search specific\n",
    "\n",
    "# core\n",
    "lat = '47'\n",
    "lon = '7'\n",
    "radius = '2'\n",
    "radius_units = 'km'\n",
    "\n",
    "# periphery\n",
    "tags = ''\n",
    "min_taken_date = '' # unix\n",
    "max_taken_date = '' # unix\n",
    "accuracy = ''\n",
    "\n",
    "# current_page = 1\n",
    "\n",
    "\n"
   ]
  },
  {
   "cell_type": "code",
   "execution_count": 28,
   "metadata": {},
   "outputs": [],
   "source": [
    "def executeSearch(request_page= 1):\n",
    "    \"\"\" Calls flickr flickr.photos.search API method. Store results in ../response as asigned by user and request_page\n",
    "\n",
    "    Parameters:\n",
    "        request_page (int): page of results to query, default to 1\n",
    "\n",
    "    Returns:\n",
    "        int: current page, total pages in results\n",
    "\n",
    "    \"\"\"\n",
    "\n",
    "    params = dict(api_key= KEY, per_page= per_page, page= request_page, format= format_output, extras= extras, nojsoncallback= nojsoncallback,\n",
    "        has_geo= has_geo, accuracy= accuracy, lat= lat, lon= lon, radius= radius)\n",
    "    \n",
    "    r = requests.get(url= URL, params= params)\n",
    "    response = r.json()\n",
    "\n",
    "    print(f'Status: {r}')\n",
    "    # print(json.dumps(r.json(), indent=2))\n",
    "\n",
    "    # (hopefully) threadsafe file management\n",
    "    Path(f\"../response/{TEST_USER}\").mkdir(parents= True, exist_ok= True)\n",
    "    with open(f'../response/{TEST_USER}/{request_page}.json', 'w') as f:\n",
    "        json.dump(response, f)\n",
    "        f.close()\n",
    "\n",
    "    # handled by either db or sessions in production\n",
    "    current_page = response['photos']['page']\n",
    "    total_page = response['photos']['pages']\n",
    "\n",
    "    return current_page, total_page"
   ]
  },
  {
   "cell_type": "code",
   "execution_count": 29,
   "metadata": {
    "tags": []
   },
   "outputs": [
    {
     "output_type": "stream",
     "name": "stdout",
     "text": "Status: <Response [200]>\nStatus: <Response [200]>\nPage 1 of 5\nStatus: <Response [200]>\nPage 2 of 5\nStatus: <Response [200]>\nPage 3 of 5\nStatus: <Response [200]>\nPage 4 of 5\nStatus: <Response [200]>\nPage 5 of 5\n"
    }
   ],
   "source": [
    "current_page, total_page = executeSearch()\n",
    "\n",
    "while current_page <= total_page:\n",
    "    current_page, total_page = executeSearch(request_page= current_page)\n",
    "    print(f'Page {current_page} of {total_page}')\n",
    "    current_page += 1\n",
    "\n"
   ]
  },
  {
   "cell_type": "markdown",
   "metadata": {},
   "source": [
    "trim pf returning json\n",
    "\n",
    "{\"photos\": {\"page\": 1, \"pages\": 5, \"perpage\": 250, \"total\": \"1141\",\n",
    "\n",
    "\"photo\": [{\"id\": \"50334344962\", \"owner\": \"59453656@N02\", \"secret\": \"90a12208fb\", \"server\": \"65535\", \"farm\": 66, \"title\": \"2020, Neuch\\u00e2tel - Ikonta 521 & Fomapan 400 in D76\", \"ispublic\": 1, \"isfriend\": 0, \"isfamily\": 0, \"license\": \"0\", \"description\": {\"_content\": \"\"}, \"dateupload\": \"1599929398\", \"lastupdate\": \"1600111295\", \"datetaken\": \"2020-09-12 18:49:51\", \"datetakengranularity\": 0, \"datetakenunknown\": \"1\", \"ownername\": \"FourthRockFromTheSun\", \"iconserver\": \"2745\", \"iconfarm\": 3, \"tags\": \"fomapan ikonta zeiss 521 neuch\\u00e2tel\", \"originalsecret\": \"d6dd695d87\", \"originalformat\": \"jpg\", \"latitude\": \"47.006655\", \"longitude\": \"6.971404\", \"accuracy\": \"16\", \"context\": 0, \"place_id\": \"\", \"woeid\": \"6692332\", \"geo_is_public\": 1, \"geo_is_contact\": 0, \"geo_is_friend\": 0, \"geo_is_family\": 0, \"url_sq\": \"https://live.staticflickr.com/65535/50334344962_90a12208fb_s.jpg\", \"height_sq\": 75, \"width_sq\": 75},\n",
    "...\n",
    "}"
   ]
  },
  {
   "cell_type": "code",
   "execution_count": null,
   "metadata": {
    "tags": []
   },
   "outputs": [],
   "source": [
    "\n",
    "# with open('example_response.json', 'w') as f:\n",
    "#     json.dump(r_json, f)"
   ]
  },
  {
   "cell_type": "code",
   "execution_count": null,
   "metadata": {},
   "outputs": [],
   "source": [
    "\n",
    "\"\"\"\n",
    "with open(f'response/USER_{current_page}', 'r') as f:\n",
    "        response = json.load(f)\n",
    "\n",
    "try:\n",
    "    # handled by either db or sessions in production\n",
    "    total_photos = response['photos']['total']\n",
    "    current_page = response['photos']['page']\n",
    "    per_page = response['photos']['perpage']\n",
    "    total_page = response['photos']['pages']\n",
    "\n",
    "    print(f'Page {current_page} of {total_page}')\n",
    "\n",
    "except:\n",
    "    print(\"unexpected return format\")\n",
    "\"\"\""
   ]
  }
 ]
}